{
 "cells": [
  {
   "cell_type": "code",
   "execution_count": 1,
   "metadata": {},
   "outputs": [
    {
     "data": {
      "text/html": [
       "<style>\n",
       "table {float:left}\n",
       "</style>"
      ],
      "text/plain": [
       "<IPython.core.display.HTML object>"
      ]
     },
     "metadata": {},
     "output_type": "display_data"
    }
   ],
   "source": [
    "%%html\n",
    "<style>\n",
    "table {float:left}\n",
    "</style>"
   ]
  },
  {
   "cell_type": "markdown",
   "metadata": {},
   "source": [
    "# Skooma\n",
    "\n",
    "Skooma is a simple, lightweight, and intuitive validation tool for Pandas DataFrames.\n",
    "\n",
    "## Features\n",
    "\n",
    "* No external dependencies other than Pandas\n",
    "* Simple, intuitive, lambda-based syntax for validation rules\n",
    "* Lazy, element-wise validation for easier debugging (executes all rules and logs all invalid values before raising an error)"
   ]
  },
  {
   "cell_type": "markdown",
   "metadata": {},
   "source": [
    "## Data types\n",
    "\n",
    "Skooma has five data types, each represented by a class: `Integer`, `Float`, `Boolean`, `String`, and `DateTime`. \n",
    "\n",
    "| Skooma class | Pandas dtype | Python type | NumPy type                                                    | Usage                  |\n",
    "| :---------- | :----------- | :---------- | :------------------------------------------------------------ | :--------------------- |\n",
    "| **String**     | object\\*     | str         | string, unicode                                               | Text                   |\n",
    "| **Integer**     | int64        | int         | int, int8, int16, int32, int64, uint8, uint16, uint32, uint64 | Integer numbers        |\n",
    "| **Float**       | float64      | float       | float, float16, float32, float64                              | Floating point numbers |\n",
    "| **Boolean**     | bool         | bool        | bool\\_                                                        | True/False values      |\n",
    "| **DateTime**    | datetime64   | NA          | datetime64[ns]                                                | Date and time values   |"
   ]
  },
  {
   "cell_type": "markdown",
   "metadata": {},
   "source": [
    "\\*_Note that, unlike the Pandas_ `object` _dtype, Skooma's_ `String` _class does not accept mixed numeric and non-numeric values._"
   ]
  },
  {
   "cell_type": "markdown",
   "metadata": {},
   "source": [
    "## Setup\n",
    "\n",
    "First, let's import the `Schema`, `Integer`, `Float`, `Boolean`, `String`, and `DateTime` classes, as well as the `@validate` decorator:"
   ]
  },
  {
   "cell_type": "code",
   "execution_count": 2,
   "metadata": {},
   "outputs": [],
   "source": [
    "import pandas as pd\n",
    "from skooma import Schema, Integer, Float, Boolean, String, DateTime, validate"
   ]
  },
  {
   "cell_type": "markdown",
   "metadata": {},
   "source": [
    "Then let's create a small Pandas DataFrame with dummy values for each Skooma type:"
   ]
  },
  {
   "cell_type": "code",
   "execution_count": 3,
   "metadata": {},
   "outputs": [
    {
     "data": {
      "text/html": [
       "<div>\n",
       "<style scoped>\n",
       "    .dataframe tbody tr th:only-of-type {\n",
       "        vertical-align: middle;\n",
       "    }\n",
       "\n",
       "    .dataframe tbody tr th {\n",
       "        vertical-align: top;\n",
       "    }\n",
       "\n",
       "    .dataframe thead th {\n",
       "        text-align: right;\n",
       "    }\n",
       "</style>\n",
       "<table border=\"1\" class=\"dataframe\">\n",
       "  <thead>\n",
       "    <tr style=\"text-align: right;\">\n",
       "      <th></th>\n",
       "      <th>integers</th>\n",
       "      <th>floats</th>\n",
       "      <th>booleans</th>\n",
       "      <th>strings</th>\n",
       "      <th>dates</th>\n",
       "    </tr>\n",
       "  </thead>\n",
       "  <tbody>\n",
       "    <tr>\n",
       "      <th>0</th>\n",
       "      <td>0</td>\n",
       "      <td>0.0</td>\n",
       "      <td>True</td>\n",
       "      <td>a</td>\n",
       "      <td>2022-01-01</td>\n",
       "    </tr>\n",
       "    <tr>\n",
       "      <th>1</th>\n",
       "      <td>1</td>\n",
       "      <td>0.5</td>\n",
       "      <td>True</td>\n",
       "      <td>b</td>\n",
       "      <td>2022-01-02</td>\n",
       "    </tr>\n",
       "    <tr>\n",
       "      <th>2</th>\n",
       "      <td>2</td>\n",
       "      <td>1.0</td>\n",
       "      <td>True</td>\n",
       "      <td>c</td>\n",
       "      <td>2022-01-03</td>\n",
       "    </tr>\n",
       "    <tr>\n",
       "      <th>3</th>\n",
       "      <td>3</td>\n",
       "      <td>1.5</td>\n",
       "      <td>True</td>\n",
       "      <td>d</td>\n",
       "      <td>2022-01-04</td>\n",
       "    </tr>\n",
       "    <tr>\n",
       "      <th>4</th>\n",
       "      <td>4</td>\n",
       "      <td>2.0</td>\n",
       "      <td>True</td>\n",
       "      <td>e</td>\n",
       "      <td>2022-01-05</td>\n",
       "    </tr>\n",
       "  </tbody>\n",
       "</table>\n",
       "</div>"
      ],
      "text/plain": [
       "   integers  floats  booleans strings      dates\n",
       "0         0     0.0      True       a 2022-01-01\n",
       "1         1     0.5      True       b 2022-01-02\n",
       "2         2     1.0      True       c 2022-01-03\n",
       "3         3     1.5      True       d 2022-01-04\n",
       "4         4     2.0      True       e 2022-01-05"
      ]
     },
     "execution_count": 3,
     "metadata": {},
     "output_type": "execute_result"
    }
   ],
   "source": [
    "df = pd.DataFrame({\n",
    "    'integers': range(5),\n",
    "    'floats': [x / 2 for x in range(5)],\n",
    "    'booleans': True,\n",
    "    'strings': list('abcde'),\n",
    "    'dates': pd.date_range(start='2022-01-01', end='2022-01-05', freq='D')\n",
    "})\n",
    "\n",
    "df"
   ]
  },
  {
   "cell_type": "markdown",
   "metadata": {},
   "source": [
    "## The  `Schema` class\n",
    "\n",
    "Next, we'll create a schema for our DataFrame using the `Schema` class. To create a new `Schema`, we'll pass in a dictionary with keys corresponding to the columns in our DataFrame. The value for each key is an instance of a Skooma datatype. Datatype classes may contain optional lambda functions that evaluate to `True` or `False` for each unique value in the column. This allows us to go beyond basic  type checking and set more granular constraints.\n",
    "\n",
    "For example, let's define a Schema that expects a DataFrame with five columns: \n",
    "* `integers` must contain only integers less than 5\n",
    "* `floats` must contain only floats between 0 and 2\n",
    "* `booleans` must contain only `True` or `False`\n",
    "* `strings` must contain only single characters\n",
    "* `dates` must contain dates or datetimes"
   ]
  },
  {
   "cell_type": "code",
   "execution_count": 4,
   "metadata": {},
   "outputs": [
    {
     "data": {
      "text/plain": [
       "<skooma.Schema at 0x11435c590>"
      ]
     },
     "execution_count": 4,
     "metadata": {},
     "output_type": "execute_result"
    }
   ],
   "source": [
    "example_schema = Schema({\n",
    "    'integers': Integer(lambda x: x < 5),\n",
    "    'floats': Float(lambda x: 0 <= x <= 2),\n",
    "    'booleans': Boolean(),\n",
    "    'strings': String(lambda x: len(x) == 1),\n",
    "    'dates': DateTime()\n",
    "})\n",
    "\n",
    "example_schema"
   ]
  },
  {
   "cell_type": "markdown",
   "metadata": {},
   "source": [
    "Now that we have defined the Schema, we can validate any DataFrame against it by calling its `.validate()` method:"
   ]
  },
  {
   "cell_type": "code",
   "execution_count": 5,
   "metadata": {},
   "outputs": [
    {
     "data": {
      "text/plain": [
       "True"
      ]
     },
     "execution_count": 5,
     "metadata": {},
     "output_type": "execute_result"
    }
   ],
   "source": [
    "example_schema.validate(df)"
   ]
  },
  {
   "cell_type": "markdown",
   "metadata": {},
   "source": [
    "This triggers an element-wise evaluation of every unique value in every column defined in the Schema. If all columns pass validation, then `validate` returns `True`. Otherwise, all invalid values in the column are logged, and `validate` returns `False`.\n",
    "\n",
    "In this example, all values meet the validation rules, so `.validate()` returns `True`.\n",
    "\n",
    "Note that if we add `2` to each value in `df['integers']`, then validation will fail—but only after all invalid values are logged:"
   ]
  },
  {
   "cell_type": "code",
   "execution_count": 6,
   "metadata": {},
   "outputs": [
    {
     "name": "stdout",
     "output_type": "stream",
     "text": [
      "Invalid value in column 'integers': 5\n",
      "Invalid value in column 'integers': 6\n"
     ]
    },
    {
     "data": {
      "text/plain": [
       "False"
      ]
     },
     "execution_count": 6,
     "metadata": {},
     "output_type": "execute_result"
    }
   ],
   "source": [
    "example_schema.validate(\n",
    "    df.assign(integers=df['integers'] + 2) # -> [2, 3, 4, 5, 6]\n",
    ")"
   ]
  },
  {
   "cell_type": "markdown",
   "metadata": {},
   "source": [
    "Similarly, if a value throws an error, then the error will be logged alongside the invalid value:"
   ]
  },
  {
   "cell_type": "code",
   "execution_count": 7,
   "metadata": {},
   "outputs": [
    {
     "name": "stdout",
     "output_type": "stream",
     "text": [
      "Invalid value in column 'integers': None\n",
      "Invalid value in column 'floats': None\n"
     ]
    },
    {
     "data": {
      "text/plain": [
       "False"
      ]
     },
     "execution_count": 7,
     "metadata": {},
     "output_type": "execute_result"
    }
   ],
   "source": [
    "example_schema.validate(\n",
    "  df.replace({1: None}) # -> [0, None, 2, 3, 4]\n",
    ")"
   ]
  },
  {
   "cell_type": "markdown",
   "metadata": {},
   "source": [
    "By default, the Schema is _strict_, meaning that it must have a key for every column in the DataFrame, and likewise every column in the DataFrame must have a key in the Schema."
   ]
  },
  {
   "cell_type": "code",
   "execution_count": 8,
   "metadata": {},
   "outputs": [
    {
     "data": {
      "text/plain": [
       "True"
      ]
     },
     "execution_count": 8,
     "metadata": {},
     "output_type": "execute_result"
    }
   ],
   "source": [
    "example_schema.strict"
   ]
  },
  {
   "cell_type": "markdown",
   "metadata": {},
   "source": [
    "We can disable this and instead only define validation requirements for a subset of columns by passing the optional argument `strict=False`"
   ]
  },
  {
   "cell_type": "code",
   "execution_count": 9,
   "metadata": {},
   "outputs": [
    {
     "data": {
      "text/plain": [
       "True"
      ]
     },
     "execution_count": 9,
     "metadata": {},
     "output_type": "execute_result"
    }
   ],
   "source": [
    "permissive_schema = Schema(\n",
    "    {'integers': Integer(lambda x: x < 5)}, \n",
    "    strict=False\n",
    ")\n",
    "\n",
    "permissive_schema.validate(df)"
   ]
  },
  {
   "cell_type": "markdown",
   "metadata": {},
   "source": [
    "## `@validate`\n",
    "\n",
    "The `@validate` decorator allows us to define `Schema` objects to validate function arguments and return values. \n",
    "\n",
    "It takes two named arguments (both optional):\n",
    "\n",
    "        args: (Schema, Schema...)\n",
    "        returns: Schema\n",
    "\n",
    "`args` takes a tuple of Schema objects that positionally correspond to the decorated function's arguments.\n",
    "\n",
    "`returns` takes a single Schema object.\n",
    "\n",
    "For each Schema, the decorator validates the corresponding DataFrame. It only executes the decorated function if all inputs/outputs pass validation."
   ]
  },
  {
   "cell_type": "code",
   "execution_count": 10,
   "metadata": {},
   "outputs": [
    {
     "name": "stdout",
     "output_type": "stream",
     "text": [
      "Validating argument at index 0...\n",
      "Passed!\n",
      "Validating return value...\n",
      "Passed!\n"
     ]
    },
    {
     "data": {
      "text/html": [
       "<div>\n",
       "<style scoped>\n",
       "    .dataframe tbody tr th:only-of-type {\n",
       "        vertical-align: middle;\n",
       "    }\n",
       "\n",
       "    .dataframe tbody tr th {\n",
       "        vertical-align: top;\n",
       "    }\n",
       "\n",
       "    .dataframe thead th {\n",
       "        text-align: right;\n",
       "    }\n",
       "</style>\n",
       "<table border=\"1\" class=\"dataframe\">\n",
       "  <thead>\n",
       "    <tr style=\"text-align: right;\">\n",
       "      <th></th>\n",
       "      <th>integers</th>\n",
       "      <th>floats</th>\n",
       "      <th>booleans</th>\n",
       "      <th>strings</th>\n",
       "      <th>dates</th>\n",
       "    </tr>\n",
       "  </thead>\n",
       "  <tbody>\n",
       "    <tr>\n",
       "      <th>0</th>\n",
       "      <td>0</td>\n",
       "      <td>0.0</td>\n",
       "      <td>True</td>\n",
       "      <td>a</td>\n",
       "      <td>2022-01-01</td>\n",
       "    </tr>\n",
       "    <tr>\n",
       "      <th>1</th>\n",
       "      <td>2</td>\n",
       "      <td>0.5</td>\n",
       "      <td>True</td>\n",
       "      <td>b</td>\n",
       "      <td>2022-01-02</td>\n",
       "    </tr>\n",
       "    <tr>\n",
       "      <th>2</th>\n",
       "      <td>4</td>\n",
       "      <td>1.0</td>\n",
       "      <td>True</td>\n",
       "      <td>c</td>\n",
       "      <td>2022-01-03</td>\n",
       "    </tr>\n",
       "    <tr>\n",
       "      <th>3</th>\n",
       "      <td>6</td>\n",
       "      <td>1.5</td>\n",
       "      <td>True</td>\n",
       "      <td>d</td>\n",
       "      <td>2022-01-04</td>\n",
       "    </tr>\n",
       "    <tr>\n",
       "      <th>4</th>\n",
       "      <td>8</td>\n",
       "      <td>2.0</td>\n",
       "      <td>True</td>\n",
       "      <td>e</td>\n",
       "      <td>2022-01-05</td>\n",
       "    </tr>\n",
       "  </tbody>\n",
       "</table>\n",
       "</div>"
      ],
      "text/plain": [
       "   integers  floats  booleans strings      dates\n",
       "0         0     0.0      True       a 2022-01-01\n",
       "1         2     0.5      True       b 2022-01-02\n",
       "2         4     1.0      True       c 2022-01-03\n",
       "3         6     1.5      True       d 2022-01-04\n",
       "4         8     2.0      True       e 2022-01-05"
      ]
     },
     "execution_count": 10,
     "metadata": {},
     "output_type": "execute_result"
    }
   ],
   "source": [
    "@validate(\n",
    "    args=(example_schema, None), \n",
    "    returns=Schema({'integers': Integer(lambda x: x % 2 == 0)}, strict=False)\n",
    ")\n",
    "def multiply_integers(df: pd.DataFrame, x: int) -> pd.DataFrame:\n",
    "    df = df.copy()\n",
    "    df[\"integers\"] = df[\"integers\"] * x\n",
    "    return df\n",
    "\n",
    "multiply_integers(df, 2)"
   ]
  }
 ],
 "metadata": {
  "kernelspec": {
   "display_name": "Coconut",
   "language": "coconut",
   "name": "coconut"
  },
  "language_info": {
   "codemirror_mode": {
    "name": "python",
    "version": 3
   },
   "file_extension": ".coco",
   "mimetype": "text/x-python3",
   "name": "coconut",
   "pygments_lexer": "coconut",
   "version": "1.4.2"
  },
  "toc": {
   "base_numbering": 1,
   "nav_menu": {},
   "number_sections": true,
   "sideBar": true,
   "skip_h1_title": false,
   "title_cell": "Table of Contents",
   "title_sidebar": "Contents",
   "toc_cell": false,
   "toc_position": {},
   "toc_section_display": true,
   "toc_window_display": false
  }
 },
 "nbformat": 4,
 "nbformat_minor": 2
}
